{
 "cells": [
  {
   "cell_type": "code",
   "execution_count": 1,
   "id": "ab9410f3",
   "metadata": {},
   "outputs": [
    {
     "data": {
      "text/html": [
       "<div>\n",
       "<style scoped>\n",
       "    .dataframe tbody tr th:only-of-type {\n",
       "        vertical-align: middle;\n",
       "    }\n",
       "\n",
       "    .dataframe tbody tr th {\n",
       "        vertical-align: top;\n",
       "    }\n",
       "\n",
       "    .dataframe thead th {\n",
       "        text-align: right;\n",
       "    }\n",
       "</style>\n",
       "<table border=\"1\" class=\"dataframe\">\n",
       "  <thead>\n",
       "    <tr style=\"text-align: right;\">\n",
       "      <th></th>\n",
       "      <th>CIC0</th>\n",
       "      <th>SM1_Dz(Z)</th>\n",
       "      <th>GATS1i</th>\n",
       "      <th>NdsCH</th>\n",
       "      <th>NdssC</th>\n",
       "      <th>MLOGP</th>\n",
       "      <th>LC50 [-LOG(mol/L)]</th>\n",
       "    </tr>\n",
       "  </thead>\n",
       "  <tbody>\n",
       "    <tr>\n",
       "      <th>0</th>\n",
       "      <td>3.260</td>\n",
       "      <td>0.829</td>\n",
       "      <td>1.676</td>\n",
       "      <td>0.0</td>\n",
       "      <td>1</td>\n",
       "      <td>1.453</td>\n",
       "      <td>3.770</td>\n",
       "    </tr>\n",
       "    <tr>\n",
       "      <th>1</th>\n",
       "      <td>2.189</td>\n",
       "      <td>0.580</td>\n",
       "      <td>0.863</td>\n",
       "      <td>0.0</td>\n",
       "      <td>0</td>\n",
       "      <td>1.348</td>\n",
       "      <td>3.115</td>\n",
       "    </tr>\n",
       "    <tr>\n",
       "      <th>2</th>\n",
       "      <td>2.125</td>\n",
       "      <td>0.638</td>\n",
       "      <td>0.831</td>\n",
       "      <td>0.0</td>\n",
       "      <td>0</td>\n",
       "      <td>1.348</td>\n",
       "      <td>3.531</td>\n",
       "    </tr>\n",
       "    <tr>\n",
       "      <th>3</th>\n",
       "      <td>3.027</td>\n",
       "      <td>0.331</td>\n",
       "      <td>1.472</td>\n",
       "      <td>1.0</td>\n",
       "      <td>0</td>\n",
       "      <td>1.807</td>\n",
       "      <td>3.510</td>\n",
       "    </tr>\n",
       "    <tr>\n",
       "      <th>4</th>\n",
       "      <td>2.094</td>\n",
       "      <td>0.827</td>\n",
       "      <td>0.860</td>\n",
       "      <td>0.0</td>\n",
       "      <td>0</td>\n",
       "      <td>1.886</td>\n",
       "      <td>5.390</td>\n",
       "    </tr>\n",
       "  </tbody>\n",
       "</table>\n",
       "</div>"
      ],
      "text/plain": [
       "    CIC0  SM1_Dz(Z)  GATS1i  NdsCH  NdssC  MLOGP  LC50 [-LOG(mol/L)]\n",
       "0  3.260      0.829   1.676    0.0      1  1.453               3.770\n",
       "1  2.189      0.580   0.863    0.0      0  1.348               3.115\n",
       "2  2.125      0.638   0.831    0.0      0  1.348               3.531\n",
       "3  3.027      0.331   1.472    1.0      0  1.807               3.510\n",
       "4  2.094      0.827   0.860    0.0      0  1.886               5.390"
      ]
     },
     "metadata": {},
     "output_type": "display_data"
    },
    {
     "name": "stdout",
     "output_type": "stream",
     "text": [
      "<class 'pandas.core.frame.DataFrame'>\n",
      "RangeIndex: 908 entries, 0 to 907\n",
      "Data columns (total 7 columns):\n",
      " #   Column              Non-Null Count  Dtype  \n",
      "---  ------              --------------  -----  \n",
      " 0   CIC0                906 non-null    float64\n",
      " 1   SM1_Dz(Z)           906 non-null    float64\n",
      " 2   GATS1i              906 non-null    float64\n",
      " 3   NdsCH               907 non-null    float64\n",
      " 4   NdssC               908 non-null    int64  \n",
      " 5   MLOGP               905 non-null    float64\n",
      " 6   LC50 [-LOG(mol/L)]  906 non-null    float64\n",
      "dtypes: float64(6), int64(1)\n",
      "memory usage: 49.8 KB\n"
     ]
    },
    {
     "data": {
      "text/plain": [
       "None"
      ]
     },
     "metadata": {},
     "output_type": "display_data"
    }
   ],
   "source": [
    "import numpy as np\n",
    "import pandas as pd\n",
    "import matplotlib.pyplot as plt\n",
    "import seaborn as sns\n",
    "\n",
    "df = pd.read_csv(\"qsar_fish_toxicity.csv\")\n",
    "\n",
    "display(df.head())\n",
    "display(df.info())"
   ]
  },
  {
   "cell_type": "code",
   "execution_count": 2,
   "id": "7b2ff053",
   "metadata": {},
   "outputs": [
    {
     "data": {
      "text/plain": [
       "CIC0                  2\n",
       "SM1_Dz(Z)             2\n",
       "GATS1i                2\n",
       "NdsCH                 1\n",
       "NdssC                 0\n",
       "MLOGP                 3\n",
       "LC50 [-LOG(mol/L)]    2\n",
       "dtype: int64"
      ]
     },
     "execution_count": 2,
     "metadata": {},
     "output_type": "execute_result"
    }
   ],
   "source": [
    "# counting missing values\n",
    "\n",
    "df.isnull().sum()"
   ]
  },
  {
   "cell_type": "code",
   "execution_count": null,
   "id": "7259be50",
   "metadata": {},
   "outputs": [],
   "source": []
  },
  {
   "cell_type": "markdown",
   "id": "04fafdc7",
   "metadata": {},
   "source": [
    "# Imputation of missing values\n",
    "# Mean/Median/Mode\n"
   ]
  },
  {
   "cell_type": "code",
   "execution_count": 3,
   "id": "62fd49be",
   "metadata": {},
   "outputs": [
    {
     "data": {
      "text/plain": [
       "CIC0                  0\n",
       "SM1_Dz(Z)             0\n",
       "GATS1i                0\n",
       "NdsCH                 0\n",
       "NdssC                 0\n",
       "MLOGP                 0\n",
       "LC50 [-LOG(mol/L)]    0\n",
       "dtype: int64"
      ]
     },
     "execution_count": 3,
     "metadata": {},
     "output_type": "execute_result"
    }
   ],
   "source": [
    "# Impute missing values with appropriate methods\n",
    "for column in df.columns:\n",
    "    if df[column].dtype == 'object':\n",
    "        df[column].fillna(df[column].mode()[0], inplace=True)\n",
    "    else:\n",
    "        df[column].fillna(df[column].mean(), inplace=True)\n",
    "\n",
    "# Verify that there are no missing values\n",
    "df.isnull().sum()\n"
   ]
  },
  {
   "cell_type": "markdown",
   "id": "eca3f22f",
   "metadata": {},
   "source": [
    "# KNN Algorithm\n"
   ]
  },
  {
   "cell_type": "code",
   "execution_count": 4,
   "id": "06e37d2c",
   "metadata": {},
   "outputs": [
    {
     "name": "stdout",
     "output_type": "stream",
     "text": [
      "\n",
      "Missing values after imputation:\n",
      "CIC0                  0\n",
      "SM1_Dz(Z)             0\n",
      "GATS1i                0\n",
      "NdsCH                 0\n",
      "NdssC                 0\n",
      "MLOGP                 0\n",
      "LC50 [-LOG(mol/L)]    0\n",
      "dtype: int64\n",
      "\n",
      "Data after KNN Imputation:\n",
      "    CIC0  SM1_Dz(Z)  GATS1i  NdsCH  NdssC  MLOGP  LC50 [-LOG(mol/L)]\n",
      "0  3.260      0.829   1.676    0.0    1.0  1.453               3.770\n",
      "1  2.189      0.580   0.863    0.0    0.0  1.348               3.115\n",
      "2  2.125      0.638   0.831    0.0    0.0  1.348               3.531\n",
      "3  3.027      0.331   1.472    1.0    0.0  1.807               3.510\n",
      "4  2.094      0.827   0.860    0.0    0.0  1.886               5.390\n"
     ]
    }
   ],
   "source": [
    "from sklearn.impute import KNNImputer\n",
    "\n",
    "# Impute missing values using KNN\n",
    "imputer = KNNImputer(n_neighbors=5)\n",
    "data_imputed = pd.DataFrame(imputer.fit_transform(df), columns=df.columns)\n",
    "\n",
    "# Check for missing values after imputation\n",
    "print(\"\\nMissing values after imputation:\")\n",
    "print(data_imputed.isnull().sum())\n",
    "\n",
    "# Display the first few rows of the imputed dataset\n",
    "print(\"\\nData after KNN Imputation:\")\n",
    "print(data_imputed.head())\n"
   ]
  },
  {
   "cell_type": "markdown",
   "id": "7f0768cd",
   "metadata": {},
   "source": [
    "# Linear Regression Imputation"
   ]
  },
  {
   "cell_type": "code",
   "execution_count": 5,
   "id": "0b027aab",
   "metadata": {},
   "outputs": [
    {
     "name": "stdout",
     "output_type": "stream",
     "text": [
      "\n",
      "Missing values after imputation:\n",
      "CIC0                  0\n",
      "SM1_Dz(Z)             0\n",
      "GATS1i                0\n",
      "NdsCH                 0\n",
      "NdssC                 0\n",
      "MLOGP                 0\n",
      "LC50 [-LOG(mol/L)]    0\n",
      "dtype: int64\n",
      "\n",
      "Data after Regression Imputation:\n",
      "    CIC0  SM1_Dz(Z)  GATS1i  NdsCH  NdssC  MLOGP  LC50 [-LOG(mol/L)]\n",
      "0  3.260      0.829   1.676    0.0      1  1.453               3.770\n",
      "1  2.189      0.580   0.863    0.0      0  1.348               3.115\n",
      "2  2.125      0.638   0.831    0.0      0  1.348               3.531\n",
      "3  3.027      0.331   1.472    1.0      0  1.807               3.510\n",
      "4  2.094      0.827   0.860    0.0      0  1.886               5.390\n"
     ]
    }
   ],
   "source": [
    "from sklearn.linear_model import LinearRegression\n",
    "\n",
    "# Function to perform regression imputation\n",
    "def regression_imputation(df, target):\n",
    "    # Separate data into features and target\n",
    "    features = df.drop(columns=[target])\n",
    "    target_data = df[target]\n",
    "    \n",
    "    # Create mask for missing values in target\n",
    "    missing_mask = target_data.isnull()\n",
    "    \n",
    "    # Split data into training and prediction sets\n",
    "    X_train = features[~missing_mask]\n",
    "    y_train = target_data[~missing_mask]\n",
    "    X_pred = features[missing_mask]\n",
    "    \n",
    "    # Train the regression model\n",
    "    model = LinearRegression()\n",
    "    model.fit(X_train, y_train)\n",
    "    \n",
    "    # Predict missing values\n",
    "    predicted_values = model.predict(X_pred)\n",
    "    \n",
    "    # Fill in the missing values\n",
    "    df.loc[missing_mask, target] = predicted_values\n",
    "    return data\n",
    "\n",
    "# Perform regression imputation for each column with missing values\n",
    "for column in df.columns:\n",
    "    if df[column].isnull().sum() > 0:\n",
    "        data = regression_imputation(df, column)\n",
    "\n",
    "# Check for missing values after imputation\n",
    "print(\"\\nMissing values after imputation:\")\n",
    "print(df.isnull().sum())\n",
    "\n",
    "# Display the first few rows of the imputed dataset\n",
    "print(\"\\nData after Regression Imputation:\")\n",
    "print(df.head())"
   ]
  },
  {
   "cell_type": "markdown",
   "id": "432753a4",
   "metadata": {},
   "source": [
    "# Linear Interpolation"
   ]
  },
  {
   "cell_type": "code",
   "execution_count": 6,
   "id": "53a35501",
   "metadata": {},
   "outputs": [
    {
     "name": "stdout",
     "output_type": "stream",
     "text": [
      "\n",
      "Missing values after imputation:\n",
      "CIC0                  0\n",
      "SM1_Dz(Z)             0\n",
      "GATS1i                0\n",
      "NdsCH                 0\n",
      "NdssC                 0\n",
      "MLOGP                 0\n",
      "LC50 [-LOG(mol/L)]    0\n",
      "dtype: int64\n",
      "\n",
      "Data after Linear Interpolation:\n",
      "    CIC0  SM1_Dz(Z)  GATS1i  NdsCH  NdssC  MLOGP  LC50 [-LOG(mol/L)]\n",
      "0  3.260      0.829   1.676    0.0      1  1.453               3.770\n",
      "1  2.189      0.580   0.863    0.0      0  1.348               3.115\n",
      "2  2.125      0.638   0.831    0.0      0  1.348               3.531\n",
      "3  3.027      0.331   1.472    1.0      0  1.807               3.510\n",
      "4  2.094      0.827   0.860    0.0      0  1.886               5.390\n"
     ]
    }
   ],
   "source": [
    "# Perform linear interpolation\n",
    "data_interpolated = df.interpolate(method='linear', limit_direction='forward', axis=0)\n",
    "\n",
    "# Check for missing values after imputation\n",
    "print(\"\\nMissing values after imputation:\")\n",
    "print(data_interpolated.isnull().sum())\n",
    "\n",
    "# Display the first few rows of the imputed dataset\n",
    "print(\"\\nData after Linear Interpolation:\")\n",
    "print(data_interpolated.head())"
   ]
  },
  {
   "cell_type": "markdown",
   "id": "6ad404b0",
   "metadata": {},
   "source": [
    "# Stochastic Imputation"
   ]
  },
  {
   "cell_type": "code",
   "execution_count": 7,
   "id": "603a00a1",
   "metadata": {},
   "outputs": [
    {
     "name": "stdout",
     "output_type": "stream",
     "text": [
      "\n",
      "Missing values after imputation:\n",
      "CIC0                  0\n",
      "SM1_Dz(Z)             0\n",
      "GATS1i                0\n",
      "NdsCH                 0\n",
      "NdssC                 0\n",
      "MLOGP                 0\n",
      "LC50 [-LOG(mol/L)]    0\n",
      "dtype: int64\n",
      "\n",
      "Data after Stochastic Imputation:\n",
      "    CIC0  SM1_Dz(Z)  GATS1i  NdsCH  NdssC  MLOGP  LC50 [-LOG(mol/L)]\n",
      "0  3.260      0.829   1.676    0.0      1  1.453               3.770\n",
      "1  2.189      0.580   0.863    0.0      0  1.348               3.115\n",
      "2  2.125      0.638   0.831    0.0      0  1.348               3.531\n",
      "3  3.027      0.331   1.472    1.0      0  1.807               3.510\n",
      "4  2.094      0.827   0.860    0.0      0  1.886               5.390\n"
     ]
    }
   ],
   "source": [
    "# Function to perform stochastic imputation\n",
    "\n",
    "def stochastic_imputation(df, target):\n",
    "    \n",
    "    # Separate data into features and target\n",
    "    features = df.drop(columns=[target])\n",
    "    target_data = df[target]\n",
    "    \n",
    "    # Create mask for missing values in target\n",
    "    missing_mask = target_data.isnull()\n",
    "    \n",
    "    # Split data into training and prediction sets\n",
    "    X_train = features[~missing_mask]\n",
    "    y_train = target_data[~missing_mask]\n",
    "    X_pred = features[missing_mask]\n",
    "    \n",
    "    # Train the regression model\n",
    "    model = LinearRegression()\n",
    "    model.fit(X_train, y_train)\n",
    "    \n",
    "    # Predict missing values\n",
    "    predicted_values = model.predict(X_pred)\n",
    "    \n",
    "    # Calculate the standard deviation of the residuals\n",
    "    residuals = y_train - model.predict(X_train)\n",
    "    std_dev = np.std(residuals)\n",
    "    \n",
    "    # Add normally distributed noise to the predicted values\n",
    "    noise = np.random.normal(0, std_dev, size=predicted_values.shape)\n",
    "    stochastic_predictions = predicted_values + noise\n",
    "    \n",
    "    # Fill in the missing values\n",
    "    df.loc[missing_mask, target] = stochastic_predictions\n",
    "    return df\n",
    "\n",
    "# Perform stochastic imputation for each column with missing values\n",
    "for column in df.columns:\n",
    "    if df[column].isnull().sum() > 0:\n",
    "        df = stochastic_imputation(df, column)\n",
    "\n",
    "# Check for missing values after imputation\n",
    "print(\"\\nMissing values after imputation:\")\n",
    "print(df.isnull().sum())\n",
    "\n",
    "# Display the first few rows of the imputed dataset\n",
    "print(\"\\nData after Stochastic Imputation:\")\n",
    "print(df.head())"
   ]
  },
  {
   "cell_type": "markdown",
   "id": "0d7c6e46",
   "metadata": {},
   "source": [
    "#  Boxplot to detect outliers"
   ]
  },
  {
   "cell_type": "code",
   "execution_count": 8,
   "id": "43321996",
   "metadata": {},
   "outputs": [
    {
     "data": {
      "image/png": "[encoded data removed]",
      "text/plain": [
       "<Figure size 864x432 with 1 Axes>"
      ]
     },
     "metadata": {
      "needs_background": "light"
     },
     "output_type": "display_data"
    }
   ],
   "source": [
    "plt.figure(figsize=(12, 6))\n",
    "sns.boxplot(data=df)\n",
    "plt.title('Boxplot for Outlier Detection')\n",
    "plt.show()\n"
   ]
  },
  {
   "cell_type": "markdown",
   "id": "e04cdccf",
   "metadata": {},
   "source": [
    "INSIGHTS:\n",
    "\n",
    "Here we can clearly see that ouliers are  present in each of the variable set. So we need to perform the ouliers removal\n",
    "\n",
    "We can also use scatterplot, histogram to visualise the outliers"
   ]
  },
  {
   "cell_type": "markdown",
   "id": "32d2c608",
   "metadata": {},
   "source": [
    "# OUTLIERS DETECTION"
   ]
  },
  {
   "cell_type": "markdown",
   "id": "80f9c63e",
   "metadata": {},
   "source": [
    "Z- SCORE METHOD"
   ]
  },
  {
   "cell_type": "code",
   "execution_count": 9,
   "id": "58b02c28",
   "metadata": {},
   "outputs": [
    {
     "data": {
      "text/plain": [
       "{'CIC0': [5.926],\n",
       " 'SM1_Dz(Z)': [2.044, 2.171, 2.071],\n",
       " 'GATS1i': [2.698, 2.606, 4.98, 2.609, 2.672, 2.92, 2.539, 2.591],\n",
       " 'NdsCH': [3.0, 4.0, 3.0, 4.0, 3.0, 4.0, 4.0, 3.0, 3.0, 4.0, 4.0, 4.0],\n",
       " 'NdssC': [4, 4, 4, 4, 4, 20, 4, 4, -3, 5, 4, 6, 6],\n",
       " 'MLOGP': [10.0, -5.78, -2.884],\n",
       " 'LC50 [-LOG(mol/L)]': [8.471, 9.612, 8.571, 8.604, 9.354, 8.916, 8.433]}"
      ]
     },
     "execution_count": 9,
     "metadata": {},
     "output_type": "execute_result"
    }
   ],
   "source": [
    "# Function to detect outliers using Z-Score\n",
    "def detect_outliers_z_score(df, threshold=3):\n",
    "    mean = np.mean(df)\n",
    "    std = np.std(df)\n",
    "    z_scores = [(x - mean) / std for x in df]\n",
    "    outliers = [x for x, z in zip(df, z_scores) if np.abs(z) > threshold]\n",
    "    return outliers\n",
    "\n",
    "# Applying Z-Score method to each numerical column\n",
    "z_score_outliers = {}\n",
    "for column in df.select_dtypes(include=[np.number]).columns:\n",
    "    outliers = detect_outliers_z_score(df[column].dropna())\n",
    "    z_score_outliers[column] = outliers\n",
    "\n",
    "z_score_outliers\n"
   ]
  },
  {
   "cell_type": "markdown",
   "id": "3f7ab83a",
   "metadata": {},
   "source": [
    "IQR METHOD"
   ]
  },
  {
   "cell_type": "code",
   "execution_count": 10,
   "id": "dbfd4b3f",
   "metadata": {},
   "outputs": [
    {
     "data": {
      "text/plain": [
       "{'CIC0': [0.667, 5.926, 0.667, 5.158],\n",
       " 'SM1_Dz(Z)': [2.044, 2.171, 2.071],\n",
       " 'GATS1i': [2.698, 2.606, 4.98, 2.609, 2.672, 2.92, 2.539, 2.591],\n",
       " 'NdsCH': [1.0,\n",
       "  1.0,\n",
       "  1.0,\n",
       "  1.0,\n",
       "  3.0,\n",
       "  1.0,\n",
       "  1.0,\n",
       "  1.0,\n",
       "  2.0,\n",
       "  2.0,\n",
       "  2.0,\n",
       "  4.0,\n",
       "  1.0,\n",
       "  2.0,\n",
       "  1.0,\n",
       "  1.0,\n",
       "  1.0,\n",
       "  1.0,\n",
       "  2.0,\n",
       "  1.0,\n",
       "  1.0,\n",
       "  1.0,\n",
       "  1.0,\n",
       "  2.0,\n",
       "  1.0,\n",
       "  1.0,\n",
       "  2.0,\n",
       "  1.0,\n",
       "  2.0,\n",
       "  1.0,\n",
       "  1.0,\n",
       "  1.0,\n",
       "  1.0,\n",
       "  1.0,\n",
       "  1.0,\n",
       "  1.0,\n",
       "  1.0,\n",
       "  1.0,\n",
       "  1.0,\n",
       "  2.0,\n",
       "  2.0,\n",
       "  1.0,\n",
       "  1.0,\n",
       "  1.0,\n",
       "  3.0,\n",
       "  1.0,\n",
       "  1.0,\n",
       "  2.0,\n",
       "  1.0,\n",
       "  1.0,\n",
       "  1.0,\n",
       "  1.0,\n",
       "  1.0,\n",
       "  4.0,\n",
       "  0.22932745314222713,\n",
       "  1.0,\n",
       "  1.0,\n",
       "  1.0,\n",
       "  1.0,\n",
       "  2.0,\n",
       "  1.0,\n",
       "  1.0,\n",
       "  1.0,\n",
       "  1.0,\n",
       "  2.0,\n",
       "  3.0,\n",
       "  2.0,\n",
       "  1.0,\n",
       "  1.0,\n",
       "  1.0,\n",
       "  1.0,\n",
       "  1.0,\n",
       "  1.0,\n",
       "  2.0,\n",
       "  1.0,\n",
       "  2.0,\n",
       "  1.0,\n",
       "  1.0,\n",
       "  2.0,\n",
       "  1.0,\n",
       "  1.0,\n",
       "  4.0,\n",
       "  1.0,\n",
       "  1.0,\n",
       "  2.0,\n",
       "  1.0,\n",
       "  1.0,\n",
       "  4.0,\n",
       "  1.0,\n",
       "  1.0,\n",
       "  1.0,\n",
       "  1.0,\n",
       "  1.0,\n",
       "  1.0,\n",
       "  3.0,\n",
       "  1.0,\n",
       "  1.0,\n",
       "  1.0,\n",
       "  1.0,\n",
       "  1.0,\n",
       "  1.0,\n",
       "  1.0,\n",
       "  1.0,\n",
       "  1.0,\n",
       "  1.0,\n",
       "  1.0,\n",
       "  3.0,\n",
       "  1.0,\n",
       "  2.0,\n",
       "  1.0,\n",
       "  1.0,\n",
       "  2.0,\n",
       "  4.0,\n",
       "  1.0,\n",
       "  1.0,\n",
       "  1.0,\n",
       "  1.0,\n",
       "  1.0,\n",
       "  1.0,\n",
       "  2.0,\n",
       "  1.0,\n",
       "  1.0,\n",
       "  4.0,\n",
       "  1.0,\n",
       "  2.0,\n",
       "  1.0,\n",
       "  1.0,\n",
       "  1.0,\n",
       "  1.0,\n",
       "  2.0,\n",
       "  4.0,\n",
       "  1.0,\n",
       "  1.0,\n",
       "  1.0,\n",
       "  1.0,\n",
       "  1.0,\n",
       "  1.0,\n",
       "  1.0,\n",
       "  1.0,\n",
       "  1.0,\n",
       "  2.0,\n",
       "  1.0,\n",
       "  2.0,\n",
       "  2.0,\n",
       "  2.0,\n",
       "  2.0,\n",
       "  1.0,\n",
       "  2.0,\n",
       "  1.0],\n",
       " 'NdssC': [3,\n",
       "  3,\n",
       "  4,\n",
       "  4,\n",
       "  4,\n",
       "  3,\n",
       "  3,\n",
       "  3,\n",
       "  3,\n",
       "  4,\n",
       "  3,\n",
       "  3,\n",
       "  3,\n",
       "  3,\n",
       "  3,\n",
       "  3,\n",
       "  3,\n",
       "  4,\n",
       "  20,\n",
       "  3,\n",
       "  4,\n",
       "  3,\n",
       "  4,\n",
       "  -3,\n",
       "  5,\n",
       "  4,\n",
       "  6,\n",
       "  3,\n",
       "  3,\n",
       "  6,\n",
       "  3],\n",
       " 'MLOGP': [6.203, -1.96, -2.03, 6.515, 6.166, 10.0, -5.78, -2.884, -2.089],\n",
       " 'LC50 [-LOG(mol/L)]': [0.45,\n",
       "  7.899,\n",
       "  0.053,\n",
       "  0.15,\n",
       "  0.33,\n",
       "  8.471,\n",
       "  9.612,\n",
       "  7.809,\n",
       "  7.691,\n",
       "  8.571,\n",
       "  8.207,\n",
       "  8.132,\n",
       "  8.169,\n",
       "  7.64,\n",
       "  0.242,\n",
       "  0.361,\n",
       "  8.604,\n",
       "  9.354,\n",
       "  7.607,\n",
       "  7.591,\n",
       "  7.849,\n",
       "  8.916,\n",
       "  8.433,\n",
       "  8.201]}"
      ]
     },
     "execution_count": 10,
     "metadata": {},
     "output_type": "execute_result"
    }
   ],
   "source": [
    "# Function to detect outliers using IQR\n",
    "def detect_outliers_iqr(df):\n",
    "    Q1 = np.percentile(df, 25)\n",
    "    Q3 = np.percentile(df, 75)\n",
    "    IQR = Q3 - Q1\n",
    "    lower_bound = Q1 - 1.5 * IQR\n",
    "    upper_bound = Q3 + 1.5 * IQR\n",
    "    outliers = [x for x in df if x < lower_bound or x > upper_bound]\n",
    "    return outliers\n",
    "\n",
    "# Applying IQR method to each numerical column\n",
    "iqr_outliers = {}\n",
    "for column in df.select_dtypes(include=[np.number]).columns:\n",
    "    outliers = detect_outliers_iqr(df[column].dropna())\n",
    "    iqr_outliers[column] = outliers\n",
    "\n",
    "iqr_outliers\n"
   ]
  },
  {
   "cell_type": "code",
   "execution_count": 11,
   "id": "ad8c52ff",
   "metadata": {},
   "outputs": [
    {
     "name": "stdout",
     "output_type": "stream",
     "text": [
      "DataFrame after removing outliers:\n",
      "    CIC0  SM1_Dz(Z)  GATS1i  NdsCH  NdssC  MLOGP  LC50 [-LOG(mol/L)]\n",
      "0  3.260      0.829   1.676    0.0    1.0  1.453               3.770\n",
      "1  2.189      0.580   0.863    0.0    0.0  1.348               3.115\n",
      "2  2.125      0.638   0.831    0.0    0.0  1.348               3.531\n",
      "3  3.027      0.331   1.472    1.0    0.0  1.807               3.510\n",
      "4  2.094      0.827   0.860    0.0    0.0  1.886               5.390\n",
      "Total number of rows after outlier removal: 833\n"
     ]
    }
   ],
   "source": [
    "df_noMV = imputer.fit_transform(df)\n",
    "\n",
    "df_noMV = pd.DataFrame(df_noMV, columns = df.columns)\n",
    "\n",
    "# Step 1: Identify numerical columns excluding 'NdsCH'\n",
    "numerical_cols = df_noMV.select_dtypes(include=np.number).columns\n",
    "numerical_cols = numerical_cols[numerical_cols != 'NdsCH']  # Exclude 'NdsCH'\n",
    "\n",
    "# Step 2: Define a function to find outliers using IQR method\n",
    "def find_outliers_iqr(data, column):\n",
    "    Q1 = data[column].quantile(0.25)\n",
    "    Q3 = data[column].quantile(0.75)\n",
    "    IQR = Q3 - Q1\n",
    "    lower_bound = Q1 - 1.5 * IQR\n",
    "    upper_bound = Q3 + 1.5 * IQR\n",
    "    return lower_bound, upper_bound\n",
    "\n",
    "# Step 3: Remove outliers from all numerical columns except 'NdsCH'\n",
    "for column in numerical_cols:\n",
    "    lower_bound, upper_bound = find_outliers_iqr(df_noMV, column)\n",
    "    df_noMV = df_noMV[(df_noMV[column] >= lower_bound) & (df_noMV[column] <= upper_bound)]\n",
    "\n",
    "# Display the new dataframe without outliers\n",
    "print(\"DataFrame after removing outliers:\")\n",
    "print(df_noMV.head())\n",
    "\n",
    "# Step 4: Verify the total number of rows after outlier removal\n",
    "print(f\"Total number of rows after outlier removal: {len(df_noMV)}\")"
   ]
  },
  {
   "cell_type": "markdown",
   "id": "24653380",
   "metadata": {},
   "source": [
    "# DESCRIPTIVE STATISTICS"
   ]
  },
  {
   "cell_type": "code",
   "execution_count": 12,
   "id": "480a04a8",
   "metadata": {},
   "outputs": [
    {
     "name": "stdout",
     "output_type": "stream",
     "text": [
      "Descriptive Statistics:\n",
      "             CIC0   SM1_Dz(Z)      GATS1i       NdsCH       NdssC       MLOGP  \\\n",
      "count  833.000000  833.000000  833.000000  833.000000  833.000000  833.000000   \n",
      "mean     2.868766    0.604885    1.276216    0.216362    0.379352    2.120826   \n",
      "std      0.727881    0.414123    0.374748    0.581214    0.641255    1.317599   \n",
      "min      0.965000    0.000000    0.396000    0.000000    0.000000   -1.306000   \n",
      "25%      2.309000    0.223000    0.945000    0.000000    0.000000    1.246000   \n",
      "50%      2.893000    0.560000    1.227000    0.000000    0.000000    2.127000   \n",
      "75%      3.380000    0.880000    1.556000    0.000000    1.000000    3.026000   \n",
      "max      4.880000    1.825000    2.456000    4.000000    2.000000    5.741000   \n",
      "\n",
      "       LC50 [-LOG(mol/L)]  \n",
      "count          833.000000  \n",
      "mean             4.001377  \n",
      "std              1.275078  \n",
      "min              0.778000  \n",
      "25%              3.168000  \n",
      "50%              3.971000  \n",
      "75%              4.811000  \n",
      "max              7.382000  \n"
     ]
    }
   ],
   "source": [
    "# Display descriptive statistics\n",
    "print(\"Descriptive Statistics:\")\n",
    "print(df_noMV.describe())"
   ]
  },
  {
   "cell_type": "code",
   "execution_count": 13,
   "id": "5a063071",
   "metadata": {},
   "outputs": [
    {
     "data": {
      "image/png": "[encoded data removed]",
      "text/plain": [
       "<Figure size 360x360 with 1 Axes>"
      ]
     },
     "metadata": {
      "needs_background": "light"
     },
     "output_type": "display_data"
    }
   ],
   "source": [
    "# Plot the distribution using Seaborn's displot\n",
    "sns.displot(df_noMV['LC50 [-LOG(mol/L)]'], kde=True)\n",
    "\n",
    "# Add title and labels\n",
    "plt.title('Distribution of LC50 [-LOG(mol/L)]')\n",
    "plt.xlabel('LC50 [-LOG(mol/L)]')\n",
    "plt.ylabel('Density')\n",
    "\n",
    "# Show the plot\n",
    "plt.show()"
   ]
  },
  {
   "cell_type": "markdown",
   "id": "ea86cd6d",
   "metadata": {},
   "source": [
    "The distribution plot of LC50 [-LOG(mol/L)] shows:\n",
    "    \n",
    "->Normal Distribution: The histogram and KDE line form a bell-shaped curve, indicating a normal distribution.\n",
    "    \n",
    "->Central Tendency: The peak is around 4 on the x-axis, suggesting this is the most common LC50 value.\n",
    "    \n",
    "->Spread: Values range from approximately 1 to 7.\n",
    "    \n",
    "->Density: The highest density is just above 100.\n",
    "    \n",
    "->Symmetry: The distribution is fairly symmetric around the central value.\n",
    "    \n",
    "These observations indicate that the LC50 [-LOG(mol/L)] values follow a distribution that is approximately normal, with most values clustering around the mean of 4, and a relatively symmetrical spread on either side."
   ]
  },
  {
   "cell_type": "markdown",
   "id": "81c90e78",
   "metadata": {},
   "source": [
    "# Splitting of the dataset as per 80% training and 20% testing."
   ]
  },
  {
   "cell_type": "code",
   "execution_count": 14,
   "id": "6f77630c",
   "metadata": {},
   "outputs": [],
   "source": [
    "df_new = df_noMV\n",
    "\n",
    "X = df_new .drop('LC50 [-LOG(mol/L)]',axis =1)\n",
    "y = df_new['LC50 [-LOG(mol/L)]']\n",
    "\n",
    "from sklearn.model_selection import train_test_split\n",
    "\n",
    "X_train,X_test,y_train,y_test = train_test_split(X,y,test_size=0.20,random_state=100)"
   ]
  },
  {
   "cell_type": "markdown",
   "id": "eda8a832",
   "metadata": {},
   "source": [
    "# Regression Model"
   ]
  },
  {
   "cell_type": "markdown",
   "id": "7ede1c9a",
   "metadata": {},
   "source": [
    "1.Ridge Regression"
   ]
  },
  {
   "cell_type": "code",
   "execution_count": 15,
   "id": "b171b88b",
   "metadata": {},
   "outputs": [
    {
     "name": "stdout",
     "output_type": "stream",
     "text": [
      "lambda = 0.0\n",
      "MAE for this lambda = 0.5551202150390567\n",
      "MSE for this lambda = 0.5372741376554376\n",
      "R² for this lambda = 0.6377977108564306\n",
      "Adjusted R² for this lambda = 0.6242151250135467\n",
      "------------------\n",
      "lambda = 0.05263157894736842\n",
      "MAE for this lambda = 0.5551867371689805\n",
      "MSE for this lambda = 0.5373348082266768\n",
      "R² for this lambda = 0.6377568099117427\n",
      "Adjusted R² for this lambda = 0.624172690283433\n",
      "------------------\n",
      "lambda = 0.10526315789473684\n",
      "MAE for this lambda = 0.5552531117994938\n",
      "MSE for this lambda = 0.5373955941122807\n",
      "R² for this lambda = 0.6377158312281056\n",
      "Adjusted R² for this lambda = 0.6241301748991596\n",
      "------------------\n",
      "lambda = 0.15789473684210525\n",
      "MAE for this lambda = 0.5553193393959279\n",
      "MSE for this lambda = 0.537456494305436\n",
      "R² for this lambda = 0.6376747754842607\n",
      "Adjusted R² for this lambda = 0.6240875795649204\n",
      "------------------\n",
      "lambda = 0.21052631578947367\n",
      "MAE for this lambda = 0.5553854204216432\n",
      "MSE for this lambda = 0.5375175078063342\n",
      "R² for this lambda = 0.6376336433542265\n",
      "Adjusted R² for this lambda = 0.62404490498001\n",
      "------------------\n",
      "lambda = 0.2631578947368421\n",
      "MAE for this lambda = 0.5554513553380391\n",
      "MSE for this lambda = 0.5375786336221187\n",
      "R² for this lambda = 0.6375924355073357\n",
      "Adjusted R² for this lambda = 0.6240021518388608\n",
      "------------------\n",
      "lambda = 0.3157894736842105\n",
      "MAE for this lambda = 0.555517144604566\n",
      "MSE for this lambda = 0.5376398707668335\n",
      "R² for this lambda = 0.6375511526082683\n",
      "Adjusted R² for this lambda = 0.6239593208310784\n",
      "------------------\n",
      "lambda = 0.3684210526315789\n",
      "MAE for this lambda = 0.5555827886787346\n",
      "MSE for this lambda = 0.5377012182613715\n",
      "R² for this lambda = 0.6375097953170876\n",
      "Adjusted R² for this lambda = 0.6239164126414785\n",
      "------------------\n",
      "lambda = 0.42105263157894735\n",
      "MAE for this lambda = 0.5556482880161259\n",
      "MSE for this lambda = 0.5377626751334237\n",
      "R² for this lambda = 0.6374683642892737\n",
      "Adjusted R² for this lambda = 0.6238734279501215\n",
      "------------------\n",
      "lambda = 0.47368421052631576\n",
      "MAE for this lambda = 0.555713643070403\n",
      "MSE for this lambda = 0.5378242404174279\n",
      "R² for this lambda = 0.6374268601757583\n",
      "Adjusted R² for this lambda = 0.6238303674323493\n",
      "------------------\n",
      "lambda = 0.5263157894736842\n",
      "MAE for this lambda = 0.55577885429332\n",
      "MSE for this lambda = 0.5378859131545193\n",
      "R² for this lambda = 0.6373852836229585\n",
      "Adjusted R² for this lambda = 0.6237872317588194\n",
      "------------------\n",
      "lambda = 0.5789473684210527\n",
      "MAE for this lambda = 0.5558439221347329\n",
      "MSE for this lambda = 0.5379476923924802\n",
      "R² for this lambda = 0.6373436352728097\n",
      "Adjusted R² for this lambda = 0.6237440215955401\n",
      "------------------\n",
      "lambda = 0.631578947368421\n",
      "MAE for this lambda = 0.5559088470426093\n",
      "MSE for this lambda = 0.5380095771856911\n",
      "R² for this lambda = 0.6373019157627994\n",
      "Adjusted R² for this lambda = 0.6237007376039043\n",
      "------------------\n",
      "lambda = 0.6842105263157894\n",
      "MAE for this lambda = 0.5559736294630382\n",
      "MSE for this lambda = 0.5380715665950808\n",
      "R² for this lambda = 0.6372601257260007\n",
      "Adjusted R² for this lambda = 0.6236573804407257\n",
      "------------------\n",
      "lambda = 0.7368421052631579\n",
      "MAE for this lambda = 0.5560382698402412\n",
      "MSE for this lambda = 0.5381336596880794\n",
      "R² for this lambda = 0.6372182657911036\n",
      "Adjusted R² for this lambda = 0.62361395075827\n",
      "------------------\n",
      "lambda = 0.7894736842105263\n",
      "MAE for this lambda = 0.5561027686165809\n",
      "MSE for this lambda = 0.5381958555385681\n",
      "R² for this lambda = 0.6371763365824495\n",
      "Adjusted R² for this lambda = 0.6235704492042914\n",
      "------------------\n",
      "lambda = 0.8421052631578947\n",
      "MAE for this lambda = 0.5561671262325719\n",
      "MSE for this lambda = 0.5382581532268332\n",
      "R² for this lambda = 0.6371343387200614\n",
      "Adjusted R² for this lambda = 0.6235268764220637\n",
      "------------------\n",
      "lambda = 0.894736842105263\n",
      "MAE for this lambda = 0.5562313431268896\n",
      "MSE for this lambda = 0.5383205518395181\n",
      "R² for this lambda = 0.6370922728196767\n",
      "Adjusted R² for this lambda = 0.6234832330504146\n",
      "------------------\n",
      "lambda = 0.9473684210526315\n",
      "MAE for this lambda = 0.5562954197363801\n",
      "MSE for this lambda = 0.5383830504695759\n",
      "R² for this lambda = 0.6370501394927794\n",
      "Adjusted R² for this lambda = 0.6234395197237587\n",
      "------------------\n",
      "lambda = 1.0\n",
      "MAE for this lambda = 0.5563593564960716\n",
      "MSE for this lambda = 0.5384456482162231\n",
      "R² for this lambda = 0.637007939346631\n",
      "Adjusted R² for this lambda = 0.6233957370721297\n",
      "------------------\n",
      "Best value of lambda = 0.0\n",
      "Best value of MAE for the best lambda = 0.5551202150390567\n",
      "Best value of MSE for the best lambda = 0.5372741376554376\n",
      "Best value of R² for the best lambda = 0.6377977108564306\n",
      "Best value of Adjusted R² for the best lambda = 0.6242151250135467\n"
     ]
    }
   ],
   "source": [
    "import numpy as np\n",
    "from sklearn.linear_model import Ridge\n",
    "from sklearn.metrics import mean_absolute_error, mean_squared_error, r2_score\n",
    "\n",
    "# Define the lambda range\n",
    "lamda = np.linspace(0, 1, 20)\n",
    "\n",
    "# Initialize best parameters\n",
    "best_lamda = 0\n",
    "best_mae = float('inf')  # Initialize to a high value\n",
    "best_mse = float('inf')  # Initialize to a high value\n",
    "best_r2 = float('-inf')  # Initialize to a low value\n",
    "best_adjr2 = float('-inf')  # Initialize to a low value\n",
    "\n",
    "# Train and evaluate the Ridge regression model for each lambda\n",
    "for param in lamda:\n",
    "    RRM = Ridge(alpha=param)\n",
    "    RRM.fit(X_train, y_train)\n",
    "\n",
    "    y_pred = RRM.predict(X_test)\n",
    "    \n",
    "    mae = mean_absolute_error(y_test, y_pred)\n",
    "    mse = mean_squared_error(y_test, y_pred)\n",
    "    r2 = r2_score(y_test, y_pred)\n",
    "    adjusted_r2 = 1 - (1-r2) * (len(y_test) - 1) / (len(y_test) - X_test.shape[1] - 1)\n",
    "    \n",
    "    print(f\"lambda = {param}\")\n",
    "    print(f\"MAE for this lambda = {mae}\")\n",
    "    print(f\"MSE for this lambda = {mse}\")\n",
    "    print(f\"R² for this lambda = {r2}\")\n",
    "    print(f\"Adjusted R² for this lambda = {adjusted_r2}\")\n",
    "    print(\"------------------\")\n",
    "\n",
    "    if mae < best_mae:\n",
    "        best_mae = mae\n",
    "        best_lamda = param\n",
    "\n",
    "    if mse < best_mse:\n",
    "        best_mse = mse\n",
    "        best_lamda = param\n",
    "\n",
    "    if r2 > best_r2:\n",
    "        best_r2 = r2\n",
    "        best_lamda = param\n",
    "\n",
    "    if adjusted_r2 > best_adjr2:\n",
    "        best_adjr2 = adjusted_r2\n",
    "        best_lamda = param\n",
    "\n",
    "print(f\"Best value of lambda = {best_lamda}\")\n",
    "print(f\"Best value of MAE for the best lambda = {best_mae}\")\n",
    "print(f\"Best value of MSE for the best lambda = {best_mse}\")\n",
    "print(f\"Best value of R² for the best lambda = {best_r2}\")\n",
    "print(f\"Best value of Adjusted R² for the best lambda = {best_adjr2}\")"
   ]
  },
  {
   "cell_type": "markdown",
   "id": "3d058ac7",
   "metadata": {},
   "source": [
    "# Observation:\n",
    "\n",
    "# Best Lambda Value: 0.0\n",
    "\n",
    "# ->The optimal value of lambda (regularization parameter) found through the Ridge regression is 0.0. This implies no regularization was applied, allowing the model to fit the data without penalty on coefficients.\n",
    "\n",
    "# Best MAE: 0.5551\n",
    "\n",
    "# ->The MAE for the best lambda is 0.5551. This value indicates the average absolute difference between the predicted and actual values. A lower MAE suggests better predictive accuracy, indicating that, on average, the model's predictions are close to the actual values.\n",
    "\n",
    "# Best MSE: 0.5372\n",
    "\n",
    "# ->Mean Squared Error (MSE): The MSE for the best lambda is 0.5372. MSE measures the average squared difference between predicted values and actual values. A lower MSE indicates better predictive accuracy, suggesting that the model's predictions are generally closer to the actual values.\n",
    "\n",
    "# Best R²: 0.6377\n",
    "\n",
    "# ->The R² score for the best lambda is 0.6377. R² measures the proportion of the variance in the dependent variable that is predictable from the independent variables. An R² of 0.6274 indicates that approximately 62.74% of the variability in the target variable is explained by the model. This indicates a strong fit of the model to the data.\n",
    "\n",
    "# Best Adjusted R²: 0.6242\n",
    "\n",
    "# ->The adjusted R² for the best lambda is 0.6242. Adjusted R² adjusts the R² value based on the number of predictors in the model, providing a more accurate measure of model performance. It accounts for the complexity added by additional predictors, showing a slightly more conservative estimate of the model's explanatory power.\n",
    "\n",
    "# Final Verdict:\n",
    "\n",
    "# ->Model Selection: The Ridge regression with a lambda of 0.0 was selected as the best model, indicating that no regularization was necessary to achieve optimal performance.\n",
    "\n",
    "# ->Predictive Accuracy: The low MAE and MSE suggests that the model's predictions are generally close to the actual values, demonstrating good predictive accuracy.\n",
    "\n",
    "# ->Explanatory Power: The high R² and adjusted R² values indicate that the model explains a significant proportion of the variance in the target variable, reflecting its strong fit to the data."
   ]
  },
  {
   "cell_type": "markdown",
   "id": "698dc4d4",
   "metadata": {},
   "source": [
    "# 2. Multiple Regression"
   ]
  },
  {
   "cell_type": "code",
   "execution_count": 16,
   "id": "f9724e76",
   "metadata": {},
   "outputs": [
    {
     "data": {
      "text/html": [
       "<div>\n",
       "<style scoped>\n",
       "    .dataframe tbody tr th:only-of-type {\n",
       "        vertical-align: middle;\n",
       "    }\n",
       "\n",
       "    .dataframe tbody tr th {\n",
       "        vertical-align: top;\n",
       "    }\n",
       "\n",
       "    .dataframe thead th {\n",
       "        text-align: right;\n",
       "    }\n",
       "</style>\n",
       "<table border=\"1\" class=\"dataframe\">\n",
       "  <thead>\n",
       "    <tr style=\"text-align: right;\">\n",
       "      <th></th>\n",
       "      <th>coefficients</th>\n",
       "    </tr>\n",
       "  </thead>\n",
       "  <tbody>\n",
       "    <tr>\n",
       "      <th>CIC0</th>\n",
       "      <td>0.303356</td>\n",
       "    </tr>\n",
       "    <tr>\n",
       "      <th>SM1_Dz(Z)</th>\n",
       "      <td>1.130540</td>\n",
       "    </tr>\n",
       "    <tr>\n",
       "      <th>GATS1i</th>\n",
       "      <td>-0.550089</td>\n",
       "    </tr>\n",
       "    <tr>\n",
       "      <th>NdsCH</th>\n",
       "      <td>0.439784</td>\n",
       "    </tr>\n",
       "    <tr>\n",
       "      <th>NdssC</th>\n",
       "      <td>-0.003038</td>\n",
       "    </tr>\n",
       "    <tr>\n",
       "      <th>MLOGP</th>\n",
       "      <td>0.427427</td>\n",
       "    </tr>\n",
       "  </tbody>\n",
       "</table>\n",
       "</div>"
      ],
      "text/plain": [
       "           coefficients\n",
       "CIC0           0.303356\n",
       "SM1_Dz(Z)      1.130540\n",
       "GATS1i        -0.550089\n",
       "NdsCH          0.439784\n",
       "NdssC         -0.003038\n",
       "MLOGP          0.427427"
      ]
     },
     "metadata": {},
     "output_type": "display_data"
    },
    {
     "name": "stdout",
     "output_type": "stream",
     "text": [
      "intercept is 2.147564926802641\n"
     ]
    }
   ],
   "source": [
    "from sklearn.linear_model import LinearRegression\n",
    "\n",
    "# model fitting\n",
    "lm = LinearRegression()\n",
    "lm.fit(X_train,y_train)\n",
    "\n",
    "#predict the outcomes\n",
    "y_pred = lm.predict(X_test)\n",
    "\n",
    "coefficients = pd.DataFrame(lm.coef_,X.columns)\n",
    "coefficients.columns = ['coefficients']\n",
    "display(coefficients)\n",
    "\n",
    "print(\"intercept is {}\".format(lm.intercept_))"
   ]
  },
  {
   "cell_type": "code",
   "execution_count": 17,
   "id": "93fb8183",
   "metadata": {},
   "outputs": [
    {
     "name": "stdout",
     "output_type": "stream",
     "text": [
      "R²: 0.6377977108564303\n",
      "Adjusted R²: 0.6242151250135465\n",
      "Mean Absolute Error (MAE): 0.5551202150390567\n",
      "Mean Squared Error (MSE): 0.5372741376554379\n"
     ]
    }
   ],
   "source": [
    "from sklearn.metrics import r2_score, mean_absolute_error, mean_squared_error\n",
    "# Calculate R²\n",
    "r2 = r2_score(y_test, y_pred)\n",
    "\n",
    "# Calculate Adjusted R²\n",
    "adjusted_r2 = 1 - (1-r2) * (len(y_test)-1) / (len(y_test)-X_test.shape[1]-1)\n",
    "\n",
    "# Calculate Mean Absolute Error (MAE)\n",
    "mae = mean_absolute_error(y_test, y_pred)\n",
    "\n",
    "# Calculate Mean Squared Error (MSE)\n",
    "mse = mean_squared_error(y_test, y_pred)\n",
    "\n",
    "# Print the model performance metrics\n",
    "print(f\"R²: {r2}\")\n",
    "print(f\"Adjusted R²: {adjusted_r2}\")\n",
    "print(f\"Mean Absolute Error (MAE): {mae}\")\n",
    "print(f\"Mean Squared Error (MSE): {mse}\")\n"
   ]
  },
  {
   "cell_type": "markdown",
   "id": "2acf4db0",
   "metadata": {},
   "source": [
    "# Observation:\n",
    "\n",
    "# R² (Coefficient of Determination): 0.6377\n",
    "\n",
    "# ->This indicates that approximately 62.74% of the variance in the dependent variable is explained by the independent variables in the model. This is a substantial proportion, showing a strong fit to the data.\n",
    "\n",
    "# Adjusted R²: 0.6242\n",
    "\n",
    "# ->This value is adjusted for the number of predictors in the model and is slightly lower than R², indicating that not all independent variables significantly contribute to the model. It provides a more conservative estimate of the model's explanatory power, accounting for the complexity of the model.\n",
    "\n",
    "# Mean Absolute Error (MAE): 0.5551\n",
    "\n",
    "# ->On average, the model's predictions are 0.5581 units away from the actual values, showing the average magnitude of errors in the predictions. A lower MAE indicates better predictive accuracy, suggesting that the model's predictions are generally close to the actual values.\n",
    "\n",
    "# Mean Squared Error (MSE): 0.5372\n",
    "\n",
    "# ->The Mean Squared Error (MSE) for the model is 0.5532. MSE quantifies the average squared difference between predicted values and actual values. A lower MSE indicates that, on average, the model's predictions are closer to the actual values, demonstrating effective predictive accuracy in minimizing errors.\n",
    "\n",
    "# These metrics suggest that the model explains a substantial proportion of the variance (R² and Adjusted R²) and has a relatively low average error (MAE) and squared error (MSE), indicating strong predictive accuracy. While the fit is good, there may still be room for improvement in prediction accuracy and further reduction in errors."
   ]
  },
  {
   "cell_type": "code",
   "execution_count": 18,
   "id": "d52b7769",
   "metadata": {},
   "outputs": [],
   "source": [
    "import numpy as np\n",
    "from sklearn.model_selection import GridSearchCV, train_test_split\n",
    "from sklearn.metrics import mean_absolute_error, mean_squared_error, r2_score\n",
    "from sklearn.linear_model import LinearRegression\n",
    "from sklearn.ensemble import RandomForestRegressor\n",
    "from sklearn.svm import SVR\n",
    "\n",
    "# Assuming your data is in X (features) and y (target)\n",
    "X_train, X_test, y_train, y_test = train_test_split(X, y, test_size=0.2, random_state=42)\n"
   ]
  },
  {
   "cell_type": "markdown",
   "id": "5c3ea7bf",
   "metadata": {},
   "source": [
    "# Define the Models and Hyperparameter Space# "
   ]
  },
  {
   "cell_type": "code",
   "execution_count": 19,
   "id": "f755fc30",
   "metadata": {},
   "outputs": [],
   "source": [
    "models = {\n",
    "    'LinearRegression': LinearRegression(),\n",
    "    'RandomForestRegressor': RandomForestRegressor(),\n",
    "    'SVR': SVR()\n",
    "}\n",
    "\n",
    "param_grid = {\n",
    "    'LinearRegression': {\n",
    "        'fit_intercept': [True, False]\n",
    "    },\n",
    "    'RandomForestRegressor': {\n",
    "        'n_estimators': [50, 100, 200],\n",
    "        'max_depth': [None, 10, 20, 30],\n",
    "        'min_samples_split': [2, 5, 10],\n",
    "        'min_samples_leaf': [1, 2, 4]\n",
    "    },\n",
    "    'SVR': {\n",
    "        'kernel': ['linear', 'poly', 'rbf'],\n",
    "        'C': [0.1, 1, 10, 100],\n",
    "        'gamma': ['scale', 'auto']\n",
    "    }\n",
    "}\n"
   ]
  },
  {
   "cell_type": "markdown",
   "id": "6a35f9c2",
   "metadata": {},
   "source": [
    "# Implement Grid Search with Cross-Validation"
   ]
  },
  {
   "cell_type": "code",
   "execution_count": 20,
   "id": "d7c0cbc2",
   "metadata": {},
   "outputs": [
    {
     "name": "stdout",
     "output_type": "stream",
     "text": [
      "Optimizing LinearRegression...\n",
      "Best parameters for LinearRegression: {'fit_intercept': True}\n",
      "Best cross-validation MSE for LinearRegression: 0.7394777628224084\n",
      "Optimizing RandomForestRegressor...\n",
      "Best parameters for RandomForestRegressor: {'max_depth': 30, 'min_samples_leaf': 1, 'min_samples_split': 10, 'n_estimators': 200}\n",
      "Best cross-validation MSE for RandomForestRegressor: 0.6194515869858741\n",
      "Optimizing SVR...\n",
      "Best parameters for SVR: {'C': 1, 'gamma': 'auto', 'kernel': 'rbf'}\n",
      "Best cross-validation MSE for SVR: 0.628740609613565\n"
     ]
    }
   ],
   "source": [
    "best_models = {}\n",
    "for model_name in models:\n",
    "    print(f\"Optimizing {model_name}...\")\n",
    "    grid_search = GridSearchCV(estimator=models[model_name], param_grid=param_grid[model_name], \n",
    "                               cv=5, scoring='neg_mean_squared_error', n_jobs=-1)\n",
    "    grid_search.fit(X_train, y_train)\n",
    "    best_models[model_name] = grid_search.best_estimator_\n",
    "\n",
    "    print(f\"Best parameters for {model_name}: {grid_search.best_params_}\")\n",
    "    print(f\"Best cross-validation MSE for {model_name}: {-grid_search.best_score_}\")\n",
    "\n"
   ]
  },
  {
   "cell_type": "markdown",
   "id": "207af856",
   "metadata": {},
   "source": [
    "# Evaluate the Best Model on Test Data"
   ]
  },
  {
   "cell_type": "code",
   "execution_count": 21,
   "id": "0bd94d72",
   "metadata": {},
   "outputs": [
    {
     "name": "stdout",
     "output_type": "stream",
     "text": [
      "LinearRegression Performance on Test Data:\n",
      "Mean Squared Error (MSE): 0.5506042833659728\n",
      "Mean Absolute Error (MAE): 0.5669903836500387\n",
      "R-squared (R²): 0.5993568592559462\n",
      "Root Mean Squared Error (RMSE): 0.7420271446288018\n",
      "\n",
      "RandomForestRegressor Performance on Test Data:\n",
      "Mean Squared Error (MSE): 0.4928768160016702\n",
      "Mean Absolute Error (MAE): 0.5215462459215734\n",
      "R-squared (R²): 0.6413618245835794\n",
      "Root Mean Squared Error (RMSE): 0.7020518613333848\n",
      "\n",
      "SVR Performance on Test Data:\n",
      "Mean Squared Error (MSE): 0.42167506605564525\n",
      "Mean Absolute Error (MAE): 0.49465634531246183\n",
      "R-squared (R²): 0.6931712521282747\n",
      "Root Mean Squared Error (RMSE): 0.6493651253768139\n",
      "\n"
     ]
    }
   ],
   "source": [
    "model_performance = {}\n",
    "for model_name, model in best_models.items():\n",
    "    predictions = model.predict(X_test)\n",
    "    mse = mean_squared_error(y_test, predictions)\n",
    "    mae = mean_absolute_error(y_test, predictions)\n",
    "    r2 = r2_score(y_test, predictions)\n",
    "    rmse = np.sqrt(mse)\n",
    "    \n",
    "    model_performance[model_name] = {\n",
    "        'MSE': mse,\n",
    "        'MAE': mae,\n",
    "        'R²': r2,\n",
    "        'RMSE': rmse\n",
    "    }\n",
    "\n",
    "    print(f\"{model_name} Performance on Test Data:\")\n",
    "    print(f\"Mean Squared Error (MSE): {mse}\")\n",
    "    print(f\"Mean Absolute Error (MAE): {mae}\")\n",
    "    print(f\"R-squared (R²): {r2}\")\n",
    "    print(f\"Root Mean Squared Error (RMSE): {rmse}\")\n",
    "    print()\n"
   ]
  },
  {
   "cell_type": "markdown",
   "id": "09067e64",
   "metadata": {},
   "source": [
    "# Compare Models "
   ]
  },
  {
   "cell_type": "code",
   "execution_count": 22,
   "id": "8b8be238",
   "metadata": {},
   "outputs": [
    {
     "name": "stdout",
     "output_type": "stream",
     "text": [
      "                            MSE       MAE        R²      RMSE\n",
      "LinearRegression       0.550604  0.566990  0.599357  0.742027\n",
      "RandomForestRegressor  0.492877  0.521546  0.641362  0.702052\n",
      "SVR                    0.421675  0.494656  0.693171  0.649365\n",
      "Best model based on MSE: SVR\n",
      "Best model based on MAE: SVR\n",
      "Best model based on R²: SVR\n",
      "Best model based on RMSE: SVR\n"
     ]
    }
   ],
   "source": [
    "performance_df = pd.DataFrame(model_performance).T\n",
    "print(performance_df)\n",
    "\n",
    "# Identify the best model based on different metrics\n",
    "best_model_mse = performance_df['MSE'].idxmin()\n",
    "best_model_mae = performance_df['MAE'].idxmin()\n",
    "best_model_r2 = performance_df['R²'].idxmax()\n",
    "best_model_rmse = performance_df['RMSE'].idxmin()\n",
    "\n",
    "print(f\"Best model based on MSE: {best_model_mse}\")\n",
    "print(f\"Best model based on MAE: {best_model_mae}\")\n",
    "print(f\"Best model based on R²: {best_model_r2}\")\n",
    "print(f\"Best model based on RMSE: {best_model_rmse}\")"
   ]
  },
  {
   "cell_type": "markdown",
   "id": "2a21c32e",
   "metadata": {},
   "source": [
    "# INSIGHTS"
   ]
  },
  {
   "cell_type": "markdown",
   "id": "c20947b7",
   "metadata": {},
   "source": [
    "Best Overall Model:\n",
    "\n",
    "If one model consistently outperforms others across most or all metrics, it can be considered the best overall model. For example, if RandomForestRegressor has the lowest MSE, MAE, and RMSE and the highest R², it is likely the best model.\n",
    "Trade-offs Between Models:\n",
    "\n",
    "Sometimes, a model may have the lowest MAE but not the lowest MSE. This suggests that while it performs well on average, it might have some large errors affecting its MSE. Choosing between such models depends on the specific requirements of the application.\n",
    "Model Robustness:\n",
    "\n",
    "High variance in the R² values across different models indicates how much of the variability each model explains. A model with a significantly higher R² is likely more robust.\n",
    "Complexity vs. Performance:\n",
    "\n",
    "More complex models like RandomForestRegressor or SVR might perform better than simpler models like LinearRegression but at the cost of increased computational resources and longer training times."
   ]
  },
  {
   "cell_type": "code",
   "execution_count": null,
   "id": "36b7660d",
   "metadata": {},
   "outputs": [],
   "source": []
  }
 ],
 "metadata": {
  "kernelspec": {
   "display_name": "Python 3 (ipykernel)",
   "language": "python",
   "name": "python3"
  },
  "language_info": {
   "codemirror_mode": {
    "name": "ipython",
    "version": 3
   },
   "file_extension": ".py",
   "mimetype": "text/x-python",
   "name": "python",
   "nbconvert_exporter": "python",
   "pygments_lexer": "ipython3",
   "version": "3.9.12"
  }
 },
 "nbformat": 4,
 "nbformat_minor": 5
}
